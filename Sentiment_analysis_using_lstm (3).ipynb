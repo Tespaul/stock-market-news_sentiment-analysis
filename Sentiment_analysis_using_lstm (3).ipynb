{
  "nbformat": 4,
  "nbformat_minor": 0,
  "metadata": {
    "colab": {
      "provenance": [],
      "gpuType": "V28"
    },
    "kernelspec": {
      "name": "python3",
      "display_name": "Python 3"
    },
    "language_info": {
      "name": "python"
    },
    "accelerator": "TPU",
    "widgets": {
      "application/vnd.jupyter.widget-state+json": {
        "9265d69cf3e6415199d22c3e9e4b54f3": {
          "model_module": "@jupyter-widgets/controls",
          "model_name": "TextModel",
          "model_module_version": "1.5.0",
          "state": {
            "_dom_classes": [],
            "_model_module": "@jupyter-widgets/controls",
            "_model_module_version": "1.5.0",
            "_model_name": "TextModel",
            "_view_count": null,
            "_view_module": "@jupyter-widgets/controls",
            "_view_module_version": "1.5.0",
            "_view_name": "TextView",
            "continuous_update": true,
            "description": "Input:",
            "description_tooltip": null,
            "disabled": false,
            "layout": "IPY_MODEL_265f824166d843239997465582315372",
            "placeholder": "Enter text here...",
            "style": "IPY_MODEL_13d820a372384b0a87499d5ca953103e",
            "value": "The Trump administration has been hacking away at federal government websites, taking down information about climate change and anything deemed “woke.” Now, there’s an online tool you can use to track the changes and find missing information. Researchers init…"
          }
        },
        "265f824166d843239997465582315372": {
          "model_module": "@jupyter-widgets/base",
          "model_name": "LayoutModel",
          "model_module_version": "1.2.0",
          "state": {
            "_model_module": "@jupyter-widgets/base",
            "_model_module_version": "1.2.0",
            "_model_name": "LayoutModel",
            "_view_count": null,
            "_view_module": "@jupyter-widgets/base",
            "_view_module_version": "1.2.0",
            "_view_name": "LayoutView",
            "align_content": null,
            "align_items": null,
            "align_self": null,
            "border": null,
            "bottom": null,
            "display": null,
            "flex": null,
            "flex_flow": null,
            "grid_area": null,
            "grid_auto_columns": null,
            "grid_auto_flow": null,
            "grid_auto_rows": null,
            "grid_column": null,
            "grid_gap": null,
            "grid_row": null,
            "grid_template_areas": null,
            "grid_template_columns": null,
            "grid_template_rows": null,
            "height": null,
            "justify_content": null,
            "justify_items": null,
            "left": null,
            "margin": null,
            "max_height": null,
            "max_width": null,
            "min_height": null,
            "min_width": null,
            "object_fit": null,
            "object_position": null,
            "order": null,
            "overflow": null,
            "overflow_x": null,
            "overflow_y": null,
            "padding": null,
            "right": null,
            "top": null,
            "visibility": null,
            "width": "100%"
          }
        },
        "13d820a372384b0a87499d5ca953103e": {
          "model_module": "@jupyter-widgets/controls",
          "model_name": "DescriptionStyleModel",
          "model_module_version": "1.5.0",
          "state": {
            "_model_module": "@jupyter-widgets/controls",
            "_model_module_version": "1.5.0",
            "_model_name": "DescriptionStyleModel",
            "_view_count": null,
            "_view_module": "@jupyter-widgets/base",
            "_view_module_version": "1.2.0",
            "_view_name": "StyleView",
            "description_width": ""
          }
        },
        "3e7e8b7f832a45b8aec23601227bd46a": {
          "model_module": "@jupyter-widgets/controls",
          "model_name": "ButtonModel",
          "model_module_version": "1.5.0",
          "state": {
            "_dom_classes": [],
            "_model_module": "@jupyter-widgets/controls",
            "_model_module_version": "1.5.0",
            "_model_name": "ButtonModel",
            "_view_count": null,
            "_view_module": "@jupyter-widgets/controls",
            "_view_module_version": "1.5.0",
            "_view_name": "ButtonView",
            "button_style": "success",
            "description": "Predict",
            "disabled": false,
            "icon": "check",
            "layout": "IPY_MODEL_dd6d4e1dc12c4ab98c186d7d1155b12a",
            "style": "IPY_MODEL_728333e91a0e46bc9fd0ffcffef26a51",
            "tooltip": "Click to predict"
          }
        },
        "dd6d4e1dc12c4ab98c186d7d1155b12a": {
          "model_module": "@jupyter-widgets/base",
          "model_name": "LayoutModel",
          "model_module_version": "1.2.0",
          "state": {
            "_model_module": "@jupyter-widgets/base",
            "_model_module_version": "1.2.0",
            "_model_name": "LayoutModel",
            "_view_count": null,
            "_view_module": "@jupyter-widgets/base",
            "_view_module_version": "1.2.0",
            "_view_name": "LayoutView",
            "align_content": null,
            "align_items": null,
            "align_self": null,
            "border": null,
            "bottom": null,
            "display": null,
            "flex": null,
            "flex_flow": null,
            "grid_area": null,
            "grid_auto_columns": null,
            "grid_auto_flow": null,
            "grid_auto_rows": null,
            "grid_column": null,
            "grid_gap": null,
            "grid_row": null,
            "grid_template_areas": null,
            "grid_template_columns": null,
            "grid_template_rows": null,
            "height": null,
            "justify_content": null,
            "justify_items": null,
            "left": null,
            "margin": null,
            "max_height": null,
            "max_width": null,
            "min_height": null,
            "min_width": null,
            "object_fit": null,
            "object_position": null,
            "order": null,
            "overflow": null,
            "overflow_x": null,
            "overflow_y": null,
            "padding": null,
            "right": null,
            "top": null,
            "visibility": null,
            "width": null
          }
        },
        "728333e91a0e46bc9fd0ffcffef26a51": {
          "model_module": "@jupyter-widgets/controls",
          "model_name": "ButtonStyleModel",
          "model_module_version": "1.5.0",
          "state": {
            "_model_module": "@jupyter-widgets/controls",
            "_model_module_version": "1.5.0",
            "_model_name": "ButtonStyleModel",
            "_view_count": null,
            "_view_module": "@jupyter-widgets/base",
            "_view_module_version": "1.2.0",
            "_view_name": "StyleView",
            "button_color": null,
            "font_weight": ""
          }
        },
        "12b157d5f2e140edaa66d9a47a32eb13": {
          "model_module": "@jupyter-widgets/output",
          "model_name": "OutputModel",
          "model_module_version": "1.0.0",
          "state": {
            "_dom_classes": [],
            "_model_module": "@jupyter-widgets/output",
            "_model_module_version": "1.0.0",
            "_model_name": "OutputModel",
            "_view_count": null,
            "_view_module": "@jupyter-widgets/output",
            "_view_module_version": "1.0.0",
            "_view_name": "OutputView",
            "layout": "IPY_MODEL_fa69b3b8a43c48a1837cc1ff53e4fa51",
            "msg_id": "",
            "outputs": [
              {
                "output_type": "display_data",
                "data": {
                  "text/plain": "<IPython.core.display.HTML object>",
                  "text/html": "<p style='color:orange;'><b>Predicted Sentiment:</b> Neutral</p>"
                },
                "metadata": {}
              },
              {
                "output_type": "display_data",
                "data": {
                  "text/plain": "<IPython.core.display.HTML object>",
                  "text/html": "<p><b>Confidence:</b> 89.59%</p>"
                },
                "metadata": {}
              }
            ]
          }
        },
        "fa69b3b8a43c48a1837cc1ff53e4fa51": {
          "model_module": "@jupyter-widgets/base",
          "model_name": "LayoutModel",
          "model_module_version": "1.2.0",
          "state": {
            "_model_module": "@jupyter-widgets/base",
            "_model_module_version": "1.2.0",
            "_model_name": "LayoutModel",
            "_view_count": null,
            "_view_module": "@jupyter-widgets/base",
            "_view_module_version": "1.2.0",
            "_view_name": "LayoutView",
            "align_content": null,
            "align_items": null,
            "align_self": null,
            "border": null,
            "bottom": null,
            "display": null,
            "flex": null,
            "flex_flow": null,
            "grid_area": null,
            "grid_auto_columns": null,
            "grid_auto_flow": null,
            "grid_auto_rows": null,
            "grid_column": null,
            "grid_gap": null,
            "grid_row": null,
            "grid_template_areas": null,
            "grid_template_columns": null,
            "grid_template_rows": null,
            "height": null,
            "justify_content": null,
            "justify_items": null,
            "left": null,
            "margin": null,
            "max_height": null,
            "max_width": null,
            "min_height": null,
            "min_width": null,
            "object_fit": null,
            "object_position": null,
            "order": null,
            "overflow": null,
            "overflow_x": null,
            "overflow_y": null,
            "padding": null,
            "right": null,
            "top": null,
            "visibility": null,
            "width": null
          }
        }
      }
    }
  },
  "cells": [
    {
      "cell_type": "code",
      "source": [
        "!pip install torch torchtext scikit-learn"
      ],
      "metadata": {
        "colab": {
          "base_uri": "https://localhost:8080/"
        },
        "id": "5HTJk_6MKjSB",
        "outputId": "fdaa9e0f-65bd-4416-9f9b-ebf16a3f7481"
      },
      "execution_count": null,
      "outputs": [
        {
          "output_type": "stream",
          "name": "stdout",
          "text": [
            "Requirement already satisfied: torch in /usr/local/lib/python3.11/dist-packages (2.6.0+cu124)\n",
            "Collecting torchtext\n",
            "  Downloading torchtext-0.18.0-cp311-cp311-manylinux1_x86_64.whl.metadata (7.9 kB)\n",
            "Requirement already satisfied: scikit-learn in /usr/local/lib/python3.11/dist-packages (1.6.1)\n",
            "Requirement already satisfied: filelock in /usr/local/lib/python3.11/dist-packages (from torch) (3.18.0)\n",
            "Requirement already satisfied: typing-extensions>=4.10.0 in /usr/local/lib/python3.11/dist-packages (from torch) (4.13.0)\n",
            "Requirement already satisfied: networkx in /usr/local/lib/python3.11/dist-packages (from torch) (3.4.2)\n",
            "Requirement already satisfied: jinja2 in /usr/local/lib/python3.11/dist-packages (from torch) (3.1.6)\n",
            "Requirement already satisfied: fsspec in /usr/local/lib/python3.11/dist-packages (from torch) (2025.3.0)\n",
            "Collecting nvidia-cuda-nvrtc-cu12==12.4.127 (from torch)\n",
            "  Downloading nvidia_cuda_nvrtc_cu12-12.4.127-py3-none-manylinux2014_x86_64.whl.metadata (1.5 kB)\n",
            "Collecting nvidia-cuda-runtime-cu12==12.4.127 (from torch)\n",
            "  Downloading nvidia_cuda_runtime_cu12-12.4.127-py3-none-manylinux2014_x86_64.whl.metadata (1.5 kB)\n",
            "Collecting nvidia-cuda-cupti-cu12==12.4.127 (from torch)\n",
            "  Downloading nvidia_cuda_cupti_cu12-12.4.127-py3-none-manylinux2014_x86_64.whl.metadata (1.6 kB)\n",
            "Collecting nvidia-cudnn-cu12==9.1.0.70 (from torch)\n",
            "  Downloading nvidia_cudnn_cu12-9.1.0.70-py3-none-manylinux2014_x86_64.whl.metadata (1.6 kB)\n",
            "Collecting nvidia-cublas-cu12==12.4.5.8 (from torch)\n",
            "  Downloading nvidia_cublas_cu12-12.4.5.8-py3-none-manylinux2014_x86_64.whl.metadata (1.5 kB)\n",
            "Collecting nvidia-cufft-cu12==11.2.1.3 (from torch)\n",
            "  Downloading nvidia_cufft_cu12-11.2.1.3-py3-none-manylinux2014_x86_64.whl.metadata (1.5 kB)\n",
            "Collecting nvidia-curand-cu12==10.3.5.147 (from torch)\n",
            "  Downloading nvidia_curand_cu12-10.3.5.147-py3-none-manylinux2014_x86_64.whl.metadata (1.5 kB)\n",
            "Collecting nvidia-cusolver-cu12==11.6.1.9 (from torch)\n",
            "  Downloading nvidia_cusolver_cu12-11.6.1.9-py3-none-manylinux2014_x86_64.whl.metadata (1.6 kB)\n",
            "Collecting nvidia-cusparse-cu12==12.3.1.170 (from torch)\n",
            "  Downloading nvidia_cusparse_cu12-12.3.1.170-py3-none-manylinux2014_x86_64.whl.metadata (1.6 kB)\n",
            "Requirement already satisfied: nvidia-cusparselt-cu12==0.6.2 in /usr/local/lib/python3.11/dist-packages (from torch) (0.6.2)\n",
            "Requirement already satisfied: nvidia-nccl-cu12==2.21.5 in /usr/local/lib/python3.11/dist-packages (from torch) (2.21.5)\n",
            "Requirement already satisfied: nvidia-nvtx-cu12==12.4.127 in /usr/local/lib/python3.11/dist-packages (from torch) (12.4.127)\n",
            "Collecting nvidia-nvjitlink-cu12==12.4.127 (from torch)\n",
            "  Downloading nvidia_nvjitlink_cu12-12.4.127-py3-none-manylinux2014_x86_64.whl.metadata (1.5 kB)\n",
            "Requirement already satisfied: triton==3.2.0 in /usr/local/lib/python3.11/dist-packages (from torch) (3.2.0)\n",
            "Requirement already satisfied: sympy==1.13.1 in /usr/local/lib/python3.11/dist-packages (from torch) (1.13.1)\n",
            "Requirement already satisfied: mpmath<1.4,>=1.1.0 in /usr/local/lib/python3.11/dist-packages (from sympy==1.13.1->torch) (1.3.0)\n",
            "Requirement already satisfied: tqdm in /usr/local/lib/python3.11/dist-packages (from torchtext) (4.67.1)\n",
            "Requirement already satisfied: requests in /usr/local/lib/python3.11/dist-packages (from torchtext) (2.32.3)\n",
            "Requirement already satisfied: numpy in /usr/local/lib/python3.11/dist-packages (from torchtext) (2.0.2)\n",
            "Requirement already satisfied: scipy>=1.6.0 in /usr/local/lib/python3.11/dist-packages (from scikit-learn) (1.14.1)\n",
            "Requirement already satisfied: joblib>=1.2.0 in /usr/local/lib/python3.11/dist-packages (from scikit-learn) (1.4.2)\n",
            "Requirement already satisfied: threadpoolctl>=3.1.0 in /usr/local/lib/python3.11/dist-packages (from scikit-learn) (3.6.0)\n",
            "Requirement already satisfied: MarkupSafe>=2.0 in /usr/local/lib/python3.11/dist-packages (from jinja2->torch) (3.0.2)\n",
            "Requirement already satisfied: charset-normalizer<4,>=2 in /usr/local/lib/python3.11/dist-packages (from requests->torchtext) (3.4.1)\n",
            "Requirement already satisfied: idna<4,>=2.5 in /usr/local/lib/python3.11/dist-packages (from requests->torchtext) (3.10)\n",
            "Requirement already satisfied: urllib3<3,>=1.21.1 in /usr/local/lib/python3.11/dist-packages (from requests->torchtext) (2.3.0)\n",
            "Requirement already satisfied: certifi>=2017.4.17 in /usr/local/lib/python3.11/dist-packages (from requests->torchtext) (2025.1.31)\n",
            "Downloading nvidia_cublas_cu12-12.4.5.8-py3-none-manylinux2014_x86_64.whl (363.4 MB)\n",
            "\u001b[2K   \u001b[90m━━━━━━━━━━━━━━━━━━━━━━━━━━━━━━━━━━━━━━━━\u001b[0m \u001b[32m363.4/363.4 MB\u001b[0m \u001b[31m2.0 MB/s\u001b[0m eta \u001b[36m0:00:00\u001b[0m\n",
            "\u001b[?25hDownloading nvidia_cuda_cupti_cu12-12.4.127-py3-none-manylinux2014_x86_64.whl (13.8 MB)\n",
            "\u001b[2K   \u001b[90m━━━━━━━━━━━━━━━━━━━━━━━━━━━━━━━━━━━━━━━━\u001b[0m \u001b[32m13.8/13.8 MB\u001b[0m \u001b[31m17.1 MB/s\u001b[0m eta \u001b[36m0:00:00\u001b[0m\n",
            "\u001b[?25hDownloading nvidia_cuda_nvrtc_cu12-12.4.127-py3-none-manylinux2014_x86_64.whl (24.6 MB)\n",
            "\u001b[2K   \u001b[90m━━━━━━━━━━━━━━━━━━━━━━━━━━━━━━━━━━━━━━━━\u001b[0m \u001b[32m24.6/24.6 MB\u001b[0m \u001b[31m15.9 MB/s\u001b[0m eta \u001b[36m0:00:00\u001b[0m\n",
            "\u001b[?25hDownloading nvidia_cuda_runtime_cu12-12.4.127-py3-none-manylinux2014_x86_64.whl (883 kB)\n",
            "\u001b[2K   \u001b[90m━━━━━━━━━━━━━━━━━━━━━━━━━━━━━━━━━━━━━━━━\u001b[0m \u001b[32m883.7/883.7 kB\u001b[0m \u001b[31m20.3 MB/s\u001b[0m eta \u001b[36m0:00:00\u001b[0m\n",
            "\u001b[?25hDownloading nvidia_cudnn_cu12-9.1.0.70-py3-none-manylinux2014_x86_64.whl (664.8 MB)\n",
            "\u001b[2K   \u001b[90m━━━━━━━━━━━━━━━━━━━━━━━━━━━━━━━━━━━━━━━━\u001b[0m \u001b[32m664.8/664.8 MB\u001b[0m \u001b[31m3.0 MB/s\u001b[0m eta \u001b[36m0:00:00\u001b[0m\n",
            "\u001b[?25hDownloading nvidia_cufft_cu12-11.2.1.3-py3-none-manylinux2014_x86_64.whl (211.5 MB)\n",
            "\u001b[2K   \u001b[90m━━━━━━━━━━━━━━━━━━━━━━━━━━━━━━━━━━━━━━━━\u001b[0m \u001b[32m211.5/211.5 MB\u001b[0m \u001b[31m4.9 MB/s\u001b[0m eta \u001b[36m0:00:00\u001b[0m\n",
            "\u001b[?25hDownloading nvidia_curand_cu12-10.3.5.147-py3-none-manylinux2014_x86_64.whl (56.3 MB)\n",
            "\u001b[2K   \u001b[90m━━━━━━━━━━━━━━━━━━━━━━━━━━━━━━━━━━━━━━━━\u001b[0m \u001b[32m56.3/56.3 MB\u001b[0m \u001b[31m10.7 MB/s\u001b[0m eta \u001b[36m0:00:00\u001b[0m\n",
            "\u001b[?25hDownloading nvidia_cusolver_cu12-11.6.1.9-py3-none-manylinux2014_x86_64.whl (127.9 MB)\n",
            "\u001b[2K   \u001b[90m━━━━━━━━━━━━━━━━━━━━━━━━━━━━━━━━━━━━━━━━\u001b[0m \u001b[32m127.9/127.9 MB\u001b[0m \u001b[31m7.3 MB/s\u001b[0m eta \u001b[36m0:00:00\u001b[0m\n",
            "\u001b[?25hDownloading nvidia_cusparse_cu12-12.3.1.170-py3-none-manylinux2014_x86_64.whl (207.5 MB)\n",
            "\u001b[2K   \u001b[90m━━━━━━━━━━━━━━━━━━━━━━━━━━━━━━━━━━━━━━━━\u001b[0m \u001b[32m207.5/207.5 MB\u001b[0m \u001b[31m5.4 MB/s\u001b[0m eta \u001b[36m0:00:00\u001b[0m\n",
            "\u001b[?25hDownloading nvidia_nvjitlink_cu12-12.4.127-py3-none-manylinux2014_x86_64.whl (21.1 MB)\n",
            "\u001b[2K   \u001b[90m━━━━━━━━━━━━━━━━━━━━━━━━━━━━━━━━━━━━━━━━\u001b[0m \u001b[32m21.1/21.1 MB\u001b[0m \u001b[31m77.6 MB/s\u001b[0m eta \u001b[36m0:00:00\u001b[0m\n",
            "\u001b[?25hDownloading torchtext-0.18.0-cp311-cp311-manylinux1_x86_64.whl (2.0 MB)\n",
            "\u001b[2K   \u001b[90m━━━━━━━━━━━━━━━━━━━━━━━━━━━━━━━━━━━━━━━━\u001b[0m \u001b[32m2.0/2.0 MB\u001b[0m \u001b[31m22.3 MB/s\u001b[0m eta \u001b[36m0:00:00\u001b[0m\n",
            "\u001b[?25hInstalling collected packages: nvidia-nvjitlink-cu12, nvidia-curand-cu12, nvidia-cufft-cu12, nvidia-cuda-runtime-cu12, nvidia-cuda-nvrtc-cu12, nvidia-cuda-cupti-cu12, nvidia-cublas-cu12, nvidia-cusparse-cu12, nvidia-cudnn-cu12, nvidia-cusolver-cu12, torchtext\n",
            "  Attempting uninstall: nvidia-nvjitlink-cu12\n",
            "    Found existing installation: nvidia-nvjitlink-cu12 12.5.82\n",
            "    Uninstalling nvidia-nvjitlink-cu12-12.5.82:\n",
            "      Successfully uninstalled nvidia-nvjitlink-cu12-12.5.82\n",
            "  Attempting uninstall: nvidia-curand-cu12\n",
            "    Found existing installation: nvidia-curand-cu12 10.3.6.82\n",
            "    Uninstalling nvidia-curand-cu12-10.3.6.82:\n",
            "      Successfully uninstalled nvidia-curand-cu12-10.3.6.82\n",
            "  Attempting uninstall: nvidia-cufft-cu12\n",
            "    Found existing installation: nvidia-cufft-cu12 11.2.3.61\n",
            "    Uninstalling nvidia-cufft-cu12-11.2.3.61:\n",
            "      Successfully uninstalled nvidia-cufft-cu12-11.2.3.61\n",
            "  Attempting uninstall: nvidia-cuda-runtime-cu12\n",
            "    Found existing installation: nvidia-cuda-runtime-cu12 12.5.82\n",
            "    Uninstalling nvidia-cuda-runtime-cu12-12.5.82:\n",
            "      Successfully uninstalled nvidia-cuda-runtime-cu12-12.5.82\n",
            "  Attempting uninstall: nvidia-cuda-nvrtc-cu12\n",
            "    Found existing installation: nvidia-cuda-nvrtc-cu12 12.5.82\n",
            "    Uninstalling nvidia-cuda-nvrtc-cu12-12.5.82:\n",
            "      Successfully uninstalled nvidia-cuda-nvrtc-cu12-12.5.82\n",
            "  Attempting uninstall: nvidia-cuda-cupti-cu12\n",
            "    Found existing installation: nvidia-cuda-cupti-cu12 12.5.82\n",
            "    Uninstalling nvidia-cuda-cupti-cu12-12.5.82:\n",
            "      Successfully uninstalled nvidia-cuda-cupti-cu12-12.5.82\n",
            "  Attempting uninstall: nvidia-cublas-cu12\n",
            "    Found existing installation: nvidia-cublas-cu12 12.5.3.2\n",
            "    Uninstalling nvidia-cublas-cu12-12.5.3.2:\n",
            "      Successfully uninstalled nvidia-cublas-cu12-12.5.3.2\n",
            "  Attempting uninstall: nvidia-cusparse-cu12\n",
            "    Found existing installation: nvidia-cusparse-cu12 12.5.1.3\n",
            "    Uninstalling nvidia-cusparse-cu12-12.5.1.3:\n",
            "      Successfully uninstalled nvidia-cusparse-cu12-12.5.1.3\n",
            "  Attempting uninstall: nvidia-cudnn-cu12\n",
            "    Found existing installation: nvidia-cudnn-cu12 9.3.0.75\n",
            "    Uninstalling nvidia-cudnn-cu12-9.3.0.75:\n",
            "      Successfully uninstalled nvidia-cudnn-cu12-9.3.0.75\n",
            "  Attempting uninstall: nvidia-cusolver-cu12\n",
            "    Found existing installation: nvidia-cusolver-cu12 11.6.3.83\n",
            "    Uninstalling nvidia-cusolver-cu12-11.6.3.83:\n",
            "      Successfully uninstalled nvidia-cusolver-cu12-11.6.3.83\n",
            "Successfully installed nvidia-cublas-cu12-12.4.5.8 nvidia-cuda-cupti-cu12-12.4.127 nvidia-cuda-nvrtc-cu12-12.4.127 nvidia-cuda-runtime-cu12-12.4.127 nvidia-cudnn-cu12-9.1.0.70 nvidia-cufft-cu12-11.2.1.3 nvidia-curand-cu12-10.3.5.147 nvidia-cusolver-cu12-11.6.1.9 nvidia-cusparse-cu12-12.3.1.170 nvidia-nvjitlink-cu12-12.4.127 torchtext-0.18.0\n"
          ]
        }
      ]
    },
    {
      "cell_type": "code",
      "source": [],
      "metadata": {
        "id": "9xsKKl2cZDmd"
      },
      "execution_count": null,
      "outputs": []
    },
    {
      "cell_type": "code",
      "source": [],
      "metadata": {
        "id": "qDFsTbKVOYwc"
      },
      "execution_count": null,
      "outputs": []
    },
    {
      "cell_type": "code",
      "source": [
        "!pip install torchtext"
      ],
      "metadata": {
        "colab": {
          "base_uri": "https://localhost:8080/"
        },
        "id": "rNvetPgEN6zA",
        "outputId": "7f5e71cd-be27-4992-c267-9b002e29d1bd"
      },
      "execution_count": null,
      "outputs": [
        {
          "output_type": "stream",
          "name": "stdout",
          "text": [
            "Collecting torchtext\n",
            "  Downloading torchtext-0.18.0-cp311-cp311-manylinux1_x86_64.whl.metadata (7.9 kB)\n",
            "Requirement already satisfied: tqdm in /usr/local/lib/python3.11/dist-packages (from torchtext) (4.67.1)\n",
            "Requirement already satisfied: requests in /usr/local/lib/python3.11/dist-packages (from torchtext) (2.32.3)\n",
            "Requirement already satisfied: torch>=2.3.0 in /usr/local/lib/python3.11/dist-packages (from torchtext) (2.6.0+cpu)\n",
            "Requirement already satisfied: numpy in /usr/local/lib/python3.11/dist-packages (from torchtext) (2.0.2)\n",
            "Requirement already satisfied: filelock in /usr/local/lib/python3.11/dist-packages (from torch>=2.3.0->torchtext) (3.18.0)\n",
            "Requirement already satisfied: typing-extensions>=4.10.0 in /usr/local/lib/python3.11/dist-packages (from torch>=2.3.0->torchtext) (4.13.0)\n",
            "Requirement already satisfied: networkx in /usr/local/lib/python3.11/dist-packages (from torch>=2.3.0->torchtext) (3.4.2)\n",
            "Requirement already satisfied: jinja2 in /usr/local/lib/python3.11/dist-packages (from torch>=2.3.0->torchtext) (3.1.6)\n",
            "Requirement already satisfied: fsspec in /usr/local/lib/python3.11/dist-packages (from torch>=2.3.0->torchtext) (2025.3.0)\n",
            "Requirement already satisfied: sympy==1.13.1 in /usr/local/lib/python3.11/dist-packages (from torch>=2.3.0->torchtext) (1.13.1)\n",
            "Requirement already satisfied: mpmath<1.4,>=1.1.0 in /usr/local/lib/python3.11/dist-packages (from sympy==1.13.1->torch>=2.3.0->torchtext) (1.3.0)\n",
            "Requirement already satisfied: charset-normalizer<4,>=2 in /usr/local/lib/python3.11/dist-packages (from requests->torchtext) (3.4.1)\n",
            "Requirement already satisfied: idna<4,>=2.5 in /usr/local/lib/python3.11/dist-packages (from requests->torchtext) (3.10)\n",
            "Requirement already satisfied: urllib3<3,>=1.21.1 in /usr/local/lib/python3.11/dist-packages (from requests->torchtext) (2.3.0)\n",
            "Requirement already satisfied: certifi>=2017.4.17 in /usr/local/lib/python3.11/dist-packages (from requests->torchtext) (2025.1.31)\n",
            "Requirement already satisfied: MarkupSafe>=2.0 in /usr/local/lib/python3.11/dist-packages (from jinja2->torch>=2.3.0->torchtext) (3.0.2)\n",
            "Downloading torchtext-0.18.0-cp311-cp311-manylinux1_x86_64.whl (2.0 MB)\n",
            "\u001b[2K   \u001b[90m━━━━━━━━━━━━━━━━━━━━━━━━━━━━━━━━━━━━━━━━\u001b[0m \u001b[32m2.0/2.0 MB\u001b[0m \u001b[31m24.4 MB/s\u001b[0m eta \u001b[36m0:00:00\u001b[0m\n",
            "\u001b[?25hInstalling collected packages: torchtext\n",
            "Successfully installed torchtext-0.18.0\n"
          ]
        }
      ]
    },
    {
      "cell_type": "code",
      "source": [
        "!pip install nltk\n"
      ],
      "metadata": {
        "colab": {
          "base_uri": "https://localhost:8080/"
        },
        "id": "pTCiDxL1VbsQ",
        "outputId": "d24543db-47ae-4179-e4a1-bdd9a15b7e0f"
      },
      "execution_count": null,
      "outputs": [
        {
          "output_type": "stream",
          "name": "stdout",
          "text": [
            "Requirement already satisfied: nltk in /usr/local/lib/python3.11/dist-packages (3.9.1)\n",
            "Requirement already satisfied: click in /usr/local/lib/python3.11/dist-packages (from nltk) (8.1.8)\n",
            "Requirement already satisfied: joblib in /usr/local/lib/python3.11/dist-packages (from nltk) (1.4.2)\n",
            "Requirement already satisfied: regex>=2021.8.3 in /usr/local/lib/python3.11/dist-packages (from nltk) (2024.11.6)\n",
            "Requirement already satisfied: tqdm in /usr/local/lib/python3.11/dist-packages (from nltk) (4.67.1)\n"
          ]
        }
      ]
    },
    {
      "cell_type": "code",
      "source": [
        "import torch\n",
        "from collections import Counter\n",
        "from torch.nn.utils.rnn import pad_sequence\n",
        "import nltk\n",
        "from nltk.tokenize import word_tokenize\n",
        "nltk.download(\"punkt\")\n"
      ],
      "metadata": {
        "colab": {
          "base_uri": "https://localhost:8080/"
        },
        "id": "3imT3W3PVejF",
        "outputId": "4dbdcbeb-86db-416f-8d0b-17008bf40015"
      },
      "execution_count": null,
      "outputs": [
        {
          "output_type": "stream",
          "name": "stderr",
          "text": [
            "[nltk_data] Downloading package punkt to /root/nltk_data...\n",
            "[nltk_data]   Package punkt is already up-to-date!\n"
          ]
        },
        {
          "output_type": "execute_result",
          "data": {
            "text/plain": [
              "True"
            ]
          },
          "metadata": {},
          "execution_count": 21
        }
      ]
    },
    {
      "cell_type": "code",
      "source": [
        "import pandas as pd\n",
        "\n",
        "# Load dataset\n",
        "file_path = \"/content/stopword_removed_balanced.csv\"  # Use the correct filename\n",
        "df = pd.read_csv(file_path)\n",
        "\n",
        "# Print dataset info\n",
        "print(\"Dataset shape:\", df.shape)\n",
        "\n",
        "# Show first few rows\n",
        "print(df.head())\n"
      ],
      "metadata": {
        "colab": {
          "base_uri": "https://localhost:8080/"
        },
        "id": "DC1fx-tvZEfK",
        "outputId": "edac3a68-ced8-4151-d2f8-1dce1d344d3f"
      },
      "execution_count": null,
      "outputs": [
        {
          "output_type": "stream",
          "name": "stdout",
          "text": [
            "Dataset shape: (5640, 10)\n",
            "                                               Title  \\\n",
            "0  Enough Greenland. US wants Denmark's help egg ...   \n",
            "1  Trading Frenzy: Microsoft Stock Rallies Due Re...   \n",
            "2            Stock Market Chaos: Gold Dips 24 Hours!   \n",
            "3    Stock market update: Mining stocks market rises   \n",
            "4  BREAKING: Netflix Stock Hits Record High Earni...   \n",
            "\n",
            "                                                Text  Real  Sentiment_Numeric  \\\n",
            "0  US Denmark may odds Greenland, comes solving e...     1                 -1   \n",
            "1  Financial markets rattled Financial Experts Mi...     0                  1   \n",
            "2  Stock market experts say Analysts Gold Dips co...     0                 -1   \n",
            "3          30-share BSE Sensex 573.8 points 73563.73     1                  0   \n",
            "4  Market analysts believe Analysts Netflix resul...     0                  1   \n",
            "\n",
            "   uppercase_word_count  exclamation_count  text_length  word_count  \\\n",
            "0                     1                  0          142          26   \n",
            "1                     0                  0          159          24   \n",
            "2                     0                  0          100          17   \n",
            "3                     1                  0           57          10   \n",
            "4                     0                  0          133          20   \n",
            "\n",
            "   special_char_count  number_count  \n",
            "0                   3             0  \n",
            "1                   2             0  \n",
            "2                   1             0  \n",
            "3                   2             5  \n",
            "4                   2             0  \n"
          ]
        }
      ]
    },
    {
      "cell_type": "code",
      "source": [
        "print(\"Missing Sentiment values:\", df[\"Sentiment_Numeric\"].isnull().sum())\n",
        "\n",
        "# Drop rows with missing Sentiment\n",
        "df = df.dropna(subset=[\"Sentiment_Numeric\"])\n",
        "\n",
        "# Check if we still have data\n",
        "print(\"Dataset shape after dropping missing Sentiments:\", df.shape)\n"
      ],
      "metadata": {
        "colab": {
          "base_uri": "https://localhost:8080/"
        },
        "id": "o7lat9FnZOYy",
        "outputId": "13e4c715-ba0d-4ea7-d58e-a996d8007575"
      },
      "execution_count": null,
      "outputs": [
        {
          "output_type": "stream",
          "name": "stdout",
          "text": [
            "Missing Sentiment values: 0\n",
            "Dataset shape after dropping missing Sentiments: (5640, 10)\n"
          ]
        }
      ]
    },
    {
      "cell_type": "code",
      "source": [
        "print(\"Unique Sentiment values before processing:\", df[\"Sentiment_Numeric\"].unique())\n",
        "df[\"Sentiment_Numeric\"] = df[\"Sentiment_Numeric\"].replace(-1, 2)\n",
        "\n",
        "# Recheck unique values\n",
        "print(\"Unique Sentiment values after processing:\", df[\"Sentiment_Numeric\"].unique())\n"
      ],
      "metadata": {
        "colab": {
          "base_uri": "https://localhost:8080/"
        },
        "id": "yWQIhJElZc6A",
        "outputId": "a69d2881-256c-4b56-f6c7-c24dd7f8e648"
      },
      "execution_count": null,
      "outputs": [
        {
          "output_type": "stream",
          "name": "stdout",
          "text": [
            "Unique Sentiment values before processing: [-1  1  0]\n",
            "Unique Sentiment values after processing: [2 1 0]\n"
          ]
        }
      ]
    },
    {
      "cell_type": "code",
      "source": [],
      "metadata": {
        "id": "-RPvq9_OTJ3a"
      },
      "execution_count": null,
      "outputs": []
    },
    {
      "cell_type": "code",
      "source": [
        "# First, check unique values\n",
        "print(\"Unique Sentiment_Numeric values:\", df[\"Sentiment_Numeric\"].unique())\n",
        "\n",
        "# Mapping\n",
        "sentiment_mapping = {1: \"positive\", 2: \"negative\", 0: \"neutral\"}\n",
        "\n",
        "# Create new text column\n",
        "df[\"Sentiment_Text\"] = df[\"Sentiment_Numeric\"].map(sentiment_mapping)\n",
        "\n",
        "# Drop rows where mapping failed (optional safety)\n",
        "df = df.dropna(subset=[\"Sentiment_Text\"])\n",
        "\n",
        "# Final checks\n",
        "print(\"Unique Sentiment_Text values:\", df[\"Sentiment_Text\"].unique())\n",
        "print(df[[\"Sentiment_Numeric\", \"Sentiment_Text\"]].head())\n"
      ],
      "metadata": {
        "colab": {
          "base_uri": "https://localhost:8080/"
        },
        "id": "NAE9qrHiaQ-S",
        "outputId": "61871c91-642b-46a2-ea3c-0ec0e44703e6"
      },
      "execution_count": null,
      "outputs": [
        {
          "output_type": "stream",
          "name": "stdout",
          "text": [
            "Unique Sentiment_Numeric values: [2 1 0]\n",
            "Unique Sentiment_Text values: ['negative' 'positive' 'neutral']\n",
            "   Sentiment_Numeric Sentiment_Text\n",
            "0                  2       negative\n",
            "1                  1       positive\n",
            "2                  2       negative\n",
            "3                  0        neutral\n",
            "4                  1       positive\n"
          ]
        }
      ]
    },
    {
      "cell_type": "code",
      "source": [
        "df[\"combined_text\"] = df[\"Title\"].fillna(\"\") + \" \" + df[\"Text\"].fillna(\"\")\n",
        "df[\"combined_text\"] = df[\"combined_text\"].str.strip()\n",
        "\n",
        "# Check non-empty text rows\n",
        "non_empty_texts = df[\"combined_text\"] != \"\"\n",
        "print(\"Number of valid text rows:\", non_empty_texts.sum())\n",
        "\n",
        "# Drop empty text rows\n",
        "df = df[non_empty_texts]\n",
        "\n",
        "print(\"Final dataset shape after removing empty texts:\", df.shape)\n"
      ],
      "metadata": {
        "colab": {
          "base_uri": "https://localhost:8080/"
        },
        "id": "uRDNNofsaoTG",
        "outputId": "a3054c06-adb7-4c0d-d0ed-d58905a5d4ef"
      },
      "execution_count": null,
      "outputs": [
        {
          "output_type": "stream",
          "name": "stdout",
          "text": [
            "Number of valid text rows: 5640\n",
            "Final dataset shape after removing empty texts: (5640, 12)\n"
          ]
        }
      ]
    },
    {
      "cell_type": "code",
      "source": [
        "print(\"Total rows in dataset:\", len(df))\n",
        "print(\"Number of empty text rows:\", (df[\"combined_text\"].str.strip() == \"\").sum())\n"
      ],
      "metadata": {
        "colab": {
          "base_uri": "https://localhost:8080/"
        },
        "id": "jK4thDH7a4Xd",
        "outputId": "cb5c4539-60d7-4c91-9839-db3135374d01"
      },
      "execution_count": null,
      "outputs": [
        {
          "output_type": "stream",
          "name": "stdout",
          "text": [
            "Total rows in dataset: 5640\n",
            "Number of empty text rows: 0\n"
          ]
        }
      ]
    },
    {
      "cell_type": "code",
      "source": [
        "# Check missing values\n",
        "print(\"Missing values per column:\\n\", df.isnull().sum())\n",
        "\n",
        "# Check unique values in 'Sentiment' column\n",
        "print(\"Unique Sentiment values:\", df[\"Sentiment_Numeric\"].unique())\n",
        "\n",
        "# Check the first few rows of text data\n",
        "print(df[[\"Title\", \"Text\"]].head())\n"
      ],
      "metadata": {
        "colab": {
          "base_uri": "https://localhost:8080/"
        },
        "id": "g08lCZLqbUnR",
        "outputId": "f6706dfb-0f38-44bd-9957-71901611d0d5"
      },
      "execution_count": null,
      "outputs": [
        {
          "output_type": "stream",
          "name": "stdout",
          "text": [
            "Missing values per column:\n",
            " Title                   0\n",
            "Text                    0\n",
            "Real                    0\n",
            "Sentiment_Numeric       0\n",
            "uppercase_word_count    0\n",
            "exclamation_count       0\n",
            "text_length             0\n",
            "word_count              0\n",
            "special_char_count      0\n",
            "number_count            0\n",
            "Sentiment_Text          0\n",
            "combined_text           0\n",
            "dtype: int64\n",
            "Unique Sentiment values: [2 1 0]\n",
            "                                               Title  \\\n",
            "0  Enough Greenland. US wants Denmark's help egg ...   \n",
            "1  Trading Frenzy: Microsoft Stock Rallies Due Re...   \n",
            "2            Stock Market Chaos: Gold Dips 24 Hours!   \n",
            "3    Stock market update: Mining stocks market rises   \n",
            "4  BREAKING: Netflix Stock Hits Record High Earni...   \n",
            "\n",
            "                                                Text  \n",
            "0  US Denmark may odds Greenland, comes solving e...  \n",
            "1  Financial markets rattled Financial Experts Mi...  \n",
            "2  Stock market experts say Analysts Gold Dips co...  \n",
            "3          30-share BSE Sensex 573.8 points 73563.73  \n",
            "4  Market analysts believe Analysts Netflix resul...  \n"
          ]
        }
      ]
    },
    {
      "cell_type": "code",
      "source": [
        "df[\"Title\"] = df[\"Title\"].fillna(\"\")\n",
        "df[\"Text\"] = df[\"Text\"].fillna(\"\")\n",
        "df[\"combined_text\"] = (df[\"Title\"] + \" \" + df[\"Text\"]).str.strip()\n"
      ],
      "metadata": {
        "id": "yNPnRJXjbsiW"
      },
      "execution_count": null,
      "outputs": []
    },
    {
      "cell_type": "code",
      "source": [
        "print(\"✅ Fixed Sentiment values:\", df[\"Sentiment_Numeric\"].unique())\n",
        "print(\"Number of valid text rows:\", (df[\"combined_text\"] != \"\").sum())\n",
        "print(\"Final dataset shape after fixing:\", df.shape)\n"
      ],
      "metadata": {
        "colab": {
          "base_uri": "https://localhost:8080/"
        },
        "id": "o1IjNF2Jbwdc",
        "outputId": "a96bbce2-d042-4295-c505-058b13e2f9a9"
      },
      "execution_count": null,
      "outputs": [
        {
          "output_type": "stream",
          "name": "stdout",
          "text": [
            "✅ Fixed Sentiment values: [2 1 0]\n",
            "Number of valid text rows: 5640\n",
            "Final dataset shape after fixing: (5640, 12)\n"
          ]
        }
      ]
    },
    {
      "cell_type": "code",
      "source": [
        "df.to_csv(\"/content/stocks_fixed.csv\", index=False)\n",
        "print(\"✅ Cleaned dataset saved as 'stocks_fixed.csv'\")\n"
      ],
      "metadata": {
        "colab": {
          "base_uri": "https://localhost:8080/"
        },
        "id": "QlVudURNb08k",
        "outputId": "cb4047b5-5b63-4acf-ec71-9086374c53ad"
      },
      "execution_count": null,
      "outputs": [
        {
          "output_type": "stream",
          "name": "stdout",
          "text": [
            "✅ Cleaned dataset saved as 'stocks_fixed.csv'\n"
          ]
        }
      ]
    },
    {
      "cell_type": "code",
      "source": [
        "from sklearn.model_selection import train_test_split\n",
        "\n",
        "# Extract texts & labels\n",
        "texts = df[\"combined_text\"].tolist()\n",
        "labels = df[\"Sentiment_Numeric\"].tolist()\n",
        "\n",
        "# Split into train & validation sets\n",
        "train_texts, val_texts, train_labels, val_labels = train_test_split(\n",
        "    texts, labels, test_size=0.1, random_state=42, stratify=labels\n",
        ")\n",
        "\n",
        "print(f\"✅ Data Split Done! Train: {len(train_texts)}, Validation: {len(val_texts)}\")\n"
      ],
      "metadata": {
        "colab": {
          "base_uri": "https://localhost:8080/"
        },
        "id": "JIRGcpOScE9T",
        "outputId": "c13bba4b-79ca-4349-8816-efdd59dda815"
      },
      "execution_count": null,
      "outputs": [
        {
          "output_type": "stream",
          "name": "stdout",
          "text": [
            "✅ Data Split Done! Train: 5076, Validation: 564\n"
          ]
        }
      ]
    },
    {
      "cell_type": "code",
      "source": [
        "# Tokenization function\n",
        "def tokenize(text):\n",
        "    return text.lower().split()  # Convert to lowercase and split on spaces\n",
        "\n",
        "# Apply tokenization\n",
        "train_tokens = [tokenize(text) for text in train_texts]\n",
        "val_tokens = [tokenize(text) for text in val_texts]\n",
        "\n",
        "print(f\"✅ Tokenization Done! Example: {train_tokens[0]}\")\n"
      ],
      "metadata": {
        "colab": {
          "base_uri": "https://localhost:8080/"
        },
        "id": "JdJEFrc2cMCK",
        "outputId": "a621469e-6139-40f2-bae2-a4415e3b687f"
      },
      "execution_count": null,
      "outputs": [
        {
          "output_type": "stream",
          "name": "stdout",
          "text": [
            "✅ Tokenization Done! Example: ['breaking:', 'google', 'stock', 'breaks', 'all-time', 'low', 'tech', 'breakthrough', 'report!', 'wall', 'street', 'causing', 'turmoil,', 'google', 'breaks', 'all-time', 'low', 'traders', 'unsure', 'comes', 'next.', 'experts', 'weigh', 'potential', 'impact.']\n"
          ]
        }
      ]
    },
    {
      "cell_type": "code",
      "source": [
        "from collections import Counter\n",
        "\n",
        "# Count word frequencies\n",
        "word_freq = Counter(word for sentence in train_tokens for word in sentence)\n",
        "\n",
        "# Create word-to-index mapping\n",
        "vocab = {\"<PAD>\": 0, \"<UNK>\": 1}  # Special tokens\n",
        "vocab.update({word: i+2 for i, (word, _) in enumerate(word_freq.most_common())})\n",
        "\n",
        "# Function to convert text to numerical sequence\n",
        "def text_to_sequence(tokens, vocab):\n",
        "    return [vocab.get(word, vocab[\"<UNK>\"]) for word in tokens]\n",
        "\n",
        "print(f\"✅ Vocabulary Built! Total words: {len(vocab)}\")\n",
        "print(f\"Example text to sequence: {text_to_sequence(train_tokens[0], vocab)}\")\n"
      ],
      "metadata": {
        "colab": {
          "base_uri": "https://localhost:8080/"
        },
        "id": "97qL3FxAcRbg",
        "outputId": "a8c1faac-a006-4508-f4b7-344fe6e6c45b"
      },
      "execution_count": null,
      "outputs": [
        {
          "output_type": "stream",
          "name": "stdout",
          "text": [
            "✅ Vocabulary Built! Total words: 14066\n",
            "Example text to sequence: [108, 36, 2, 23, 22, 37, 63, 152, 54, 6, 7, 80, 85, 36, 23, 22, 37, 9, 86, 69, 83, 5, 75, 66, 19]\n"
          ]
        }
      ]
    },
    {
      "cell_type": "code",
      "source": [
        "import torch\n",
        "from torch.nn.utils.rnn import pad_sequence\n",
        "\n",
        "# Define max length for sequences\n",
        "MAX_LEN = min(50, max(len(seq) for seq in train_tokens))  # Choose max of 50 or max sequence length\n",
        "\n",
        "# Convert text tokens to sequences\n",
        "train_sequences = [text_to_sequence(tokens, vocab)[:MAX_LEN] for tokens in train_tokens]\n",
        "val_sequences = [text_to_sequence(tokens, vocab)[:MAX_LEN] for tokens in val_tokens]\n",
        "\n",
        "# Pad sequences\n",
        "def pad_sequences(sequences, max_length):\n",
        "    return pad_sequence(\n",
        "        [torch.tensor(seq, dtype=torch.long) for seq in sequences],\n",
        "        batch_first=True,\n",
        "        padding_value=vocab[\"<PAD>\"]\n",
        "    )\n",
        "\n",
        "train_sequences = pad_sequences(train_sequences, MAX_LEN)\n",
        "val_sequences = pad_sequences(val_sequences, MAX_LEN)\n",
        "\n",
        "# Convert labels to tensors\n",
        "train_labels = torch.tensor(train_labels, dtype=torch.long)\n",
        "val_labels = torch.tensor(val_labels, dtype=torch.long)\n",
        "\n",
        "print(f\"✅ Padding Done! Example sequence: {train_sequences[0]}\")\n"
      ],
      "metadata": {
        "colab": {
          "base_uri": "https://localhost:8080/"
        },
        "id": "0DPFKikncYpg",
        "outputId": "91de1b6f-2c51-4d98-962a-fc68338e49af"
      },
      "execution_count": null,
      "outputs": [
        {
          "output_type": "stream",
          "name": "stdout",
          "text": [
            "✅ Padding Done! Example sequence: tensor([108,  36,   2,  23,  22,  37,  63, 152,  54,   6,   7,  80,  85,  36,\n",
            "         23,  22,  37,   9,  86,  69,  83,   5,  75,  66,  19,   0,   0,   0,\n",
            "          0,   0,   0,   0,   0,   0,   0,   0,   0,   0,   0,   0,   0,   0,\n",
            "          0,   0,   0,   0,   0,   0,   0,   0])\n"
          ]
        }
      ]
    },
    {
      "cell_type": "code",
      "source": [
        "from torch.utils.data import Dataset, DataLoader\n",
        "\n",
        "# Custom dataset class\n",
        "class SentimentDataset(Dataset):\n",
        "    def __init__(self, sequences, labels):\n",
        "        self.sequences = sequences\n",
        "        self.labels = labels\n",
        "\n",
        "    def __len__(self):\n",
        "        return len(self.sequences)\n",
        "\n",
        "    def __getitem__(self, idx):\n",
        "        return self.sequences[idx], self.labels[idx]\n",
        "\n",
        "# Create dataset objects\n",
        "train_dataset = SentimentDataset(train_sequences, train_labels)\n",
        "val_dataset = SentimentDataset(val_sequences, val_labels)\n",
        "\n",
        "# DataLoader for batching\n",
        "BATCH_SIZE = 16\n",
        "train_loader = DataLoader(train_dataset, batch_size=BATCH_SIZE, shuffle=True)\n",
        "val_loader = DataLoader(val_dataset, batch_size=BATCH_SIZE, shuffle=False)\n",
        "\n",
        "print(f\"✅ DataLoader Ready! Training batches: {len(train_loader)}, Validation batches: {len(val_loader)}\")\n"
      ],
      "metadata": {
        "colab": {
          "base_uri": "https://localhost:8080/"
        },
        "id": "SnZ1q1kocctn",
        "outputId": "74736762-ef9e-4745-f746-4392c89b2c8f"
      },
      "execution_count": null,
      "outputs": [
        {
          "output_type": "stream",
          "name": "stdout",
          "text": [
            "✅ DataLoader Ready! Training batches: 318, Validation batches: 36\n"
          ]
        }
      ]
    },
    {
      "cell_type": "code",
      "source": [
        "import torch\n",
        "import torch.nn as nn\n",
        "import torch.nn.functional as F\n",
        "\n",
        "# Define Improved LSTM Model\n",
        "class SentimentLSTM(nn.Module):\n",
        "    def __init__(self, vocab_size, embed_dim, hidden_dim, output_dim, num_layers=2, dropout=0.3):\n",
        "        super(SentimentLSTM, self).__init__()\n",
        "        self.embedding = nn.Embedding(vocab_size, embed_dim, padding_idx=vocab[\"<PAD>\"])\n",
        "        self.lstm = nn.LSTM(\n",
        "            embed_dim,\n",
        "            hidden_dim,\n",
        "            num_layers=num_layers,\n",
        "            batch_first=True,\n",
        "            dropout=dropout,\n",
        "            bidirectional=True  # <-- Added Bidirectional LSTM\n",
        "        )\n",
        "        self.fc = nn.Linear(hidden_dim * 2, output_dim)  # hidden_dim*2 due to bidirectional\n",
        "        self.dropout = nn.Dropout(dropout)\n",
        "\n",
        "    def forward(self, x):\n",
        "        x = self.embedding(x)\n",
        "        lstm_out, (h_n, c_n) = self.lstm(x)\n",
        "        # Concatenate last hidden states from both directions\n",
        "        out_forward = h_n[-2,:,:]\n",
        "        out_backward = h_n[-1,:,:]\n",
        "        out = torch.cat((out_forward, out_backward), dim=1)\n",
        "        out = self.dropout(out)\n",
        "        out = self.fc(out)\n",
        "        return out  # <-- Softmax will be applied later during evaluation or loss calculation\n",
        "\n",
        "\n",
        "# Model Hyperparameters\n",
        "VOCAB_SIZE = len(vocab)\n",
        "EMBED_DIM = 128  # Increased embedding size\n",
        "HIDDEN_DIM = 256  # Increased hidden dimension\n",
        "OUTPUT_DIM = 3\n",
        "NUM_LAYERS = 2\n",
        "DROPOUT = 0.3\n",
        "\n",
        "# Instantiate model\n",
        "model = SentimentLSTM(VOCAB_SIZE, EMBED_DIM, HIDDEN_DIM, OUTPUT_DIM, NUM_LAYERS, DROPOUT)\n",
        "print(\"✅ Improved LSTM Model Created!\")\n"
      ],
      "metadata": {
        "colab": {
          "base_uri": "https://localhost:8080/"
        },
        "id": "RrPLfQnBckN1",
        "outputId": "3948ae5e-ab3f-4ef4-d764-703a30c2c073"
      },
      "execution_count": null,
      "outputs": [
        {
          "output_type": "stream",
          "name": "stdout",
          "text": [
            "✅ Improved LSTM Model Created!\n"
          ]
        }
      ]
    },
    {
      "cell_type": "code",
      "source": [
        "import torch.optim as optim\n",
        "\n",
        "# Define device\n",
        "device = torch.device(\"cuda\" if torch.cuda.is_available() else \"cpu\")\n",
        "model.to(device)\n",
        "\n",
        "# Loss function and optimizer\n",
        "criterion = nn.CrossEntropyLoss(label_smoothing=0.1)  # <-- Added label smoothing\n",
        "optimizer = optim.AdamW(model.parameters(), lr=2e-4, weight_decay=1e-5)  # <-- AdamW + adjusted lr\n",
        "\n",
        "# Training function\n",
        "def train_model(model, train_loader, val_loader, epochs=10):\n",
        "    for epoch in range(epochs):\n",
        "        model.train()\n",
        "        total_loss = 0\n",
        "\n",
        "        for batch in train_loader:\n",
        "            input_ids = batch[\"input_ids\"].to(device)\n",
        "            labels = batch[\"labels\"].to(device)\n",
        "\n",
        "            optimizer.zero_grad()\n",
        "            outputs = model(input_ids)\n",
        "\n",
        "            loss = criterion(outputs, labels)\n",
        "            loss.backward()\n",
        "            nn.utils.clip_grad_norm_(model.parameters(), max_norm=1.0)  # <-- Gradient Clipping\n",
        "            optimizer.step()\n",
        "\n",
        "            total_loss += loss.item()\n",
        "\n",
        "        avg_loss = total_loss / len(train_loader)\n",
        "        print(f\"Epoch {epoch + 1}/{epochs}, Training Loss: {avg_loss:.4f}\")\n",
        "\n",
        "        # Evaluate after each epoch\n",
        "        evaluate_model(model, val_loader)\n",
        "\n",
        "    print(\"✅ Training Finished!\")\n",
        "\n",
        "print(\"✅ Training Setup Ready!\")\n"
      ],
      "metadata": {
        "colab": {
          "base_uri": "https://localhost:8080/"
        },
        "id": "UtcgNYUIcqN3",
        "outputId": "b6aaa367-7091-4580-8f98-98ad4b40a841"
      },
      "execution_count": null,
      "outputs": [
        {
          "output_type": "stream",
          "name": "stdout",
          "text": [
            "✅ Training Setup Ready!\n"
          ]
        }
      ]
    },
    {
      "cell_type": "code",
      "source": [
        "from sklearn.metrics import accuracy_score, classification_report, f1_score\n",
        "\n",
        "def evaluate_model(model, val_loader):\n",
        "    model.eval()\n",
        "    predictions, true_labels = [], []\n",
        "\n",
        "    with torch.no_grad():\n",
        "        for batch in val_loader:\n",
        "            input_ids, labels = batch\n",
        "            input_ids = input_ids.to(device)\n",
        "            labels = labels.to(device)\n",
        "\n",
        "            outputs = model(input_ids)\n",
        "            preds = torch.argmax(outputs, dim=1).cpu().numpy()\n",
        "\n",
        "            predictions.extend(preds)\n",
        "            true_labels.extend(labels.cpu().numpy())\n",
        "\n",
        "    # Calculate metrics\n",
        "    accuracy = accuracy_score(true_labels, predictions)\n",
        "    f1 = f1_score(true_labels, predictions, average='weighted')  # <-- Added weighted F1-score\n",
        "\n",
        "    print(f\"✅ Validation Accuracy: {accuracy:.4f}\")\n",
        "    print(f\"✅ Weighted F1 Score: {f1:.4f}\")\n",
        "    print(\"\\nClassification Report:\\n\", classification_report(true_labels, predictions, digits=4))\n"
      ],
      "metadata": {
        "id": "6Y8Z4Bedc0FO"
      },
      "execution_count": null,
      "outputs": []
    },
    {
      "cell_type": "code",
      "source": [
        "import torch.optim as optim\n",
        "from tqdm import tqdm\n",
        "\n",
        "# Define optimizer and loss function (already improved Adam parameters)\n",
        "optimizer = optim.Adam(model.parameters(), lr=1e-4, weight_decay=1e-5)  # <-- Added small weight decay\n",
        "loss_fn = nn.CrossEntropyLoss(label_smoothing=0.1)  # <-- Added label smoothing\n",
        "\n",
        "def train_model(model, train_loader, val_loader, epochs=5):\n",
        "    model.to(device)\n",
        "\n",
        "    for epoch in range(epochs):\n",
        "        model.train()\n",
        "        total_loss = 0\n",
        "\n",
        "        progress_bar = tqdm(train_loader, desc=f\"Epoch {epoch+1}/{epochs}\", leave=False)\n",
        "\n",
        "        for batch in progress_bar:\n",
        "            input_ids, labels = batch\n",
        "\n",
        "            input_ids = input_ids.to(device)\n",
        "            labels = labels.to(device)\n",
        "\n",
        "            optimizer.zero_grad()\n",
        "            outputs = model(input_ids)\n",
        "            loss = loss_fn(outputs, labels)\n",
        "\n",
        "            loss.backward()\n",
        "            torch.nn.utils.clip_grad_norm_(model.parameters(), max_norm=1.0)  # <-- Gradient Clipping\n",
        "            optimizer.step()\n",
        "\n",
        "            total_loss += loss.item()\n",
        "            progress_bar.set_postfix(loss=loss.item())\n",
        "\n",
        "        avg_loss = total_loss / len(train_loader)\n",
        "        print(f\"🔵 Epoch {epoch+1}/{epochs} | Average Loss: {avg_loss:.4f}\")\n",
        "\n",
        "        # Evaluate after each epoch\n",
        "        evaluate_model(model, val_loader)\n",
        "\n",
        "    print(\"✅ Training Complete!\")\n",
        "\n",
        "# Start training\n",
        "train_model(model, train_loader, val_loader, epochs=5)\n"
      ],
      "metadata": {
        "colab": {
          "base_uri": "https://localhost:8080/"
        },
        "id": "WL65KE7cc70P",
        "outputId": "3fce8027-53ec-40f4-a18f-a889ce40fd97"
      },
      "execution_count": null,
      "outputs": [
        {
          "output_type": "stream",
          "name": "stderr",
          "text": []
        },
        {
          "output_type": "stream",
          "name": "stdout",
          "text": [
            "🔵 Epoch 1/5 | Average Loss: 0.9555\n",
            "✅ Validation Accuracy: 0.7642\n",
            "✅ Weighted F1 Score: 0.7683\n",
            "\n",
            "Classification Report:\n",
            "               precision    recall  f1-score   support\n",
            "\n",
            "           0     0.6154    0.8511    0.7143       188\n",
            "           1     0.8978    0.6543    0.7569       188\n",
            "           2     0.8862    0.7872    0.8338       188\n",
            "\n",
            "    accuracy                         0.7642       564\n",
            "   macro avg     0.7998    0.7642    0.7683       564\n",
            "weighted avg     0.7998    0.7642    0.7683       564\n",
            "\n"
          ]
        },
        {
          "output_type": "stream",
          "name": "stderr",
          "text": []
        },
        {
          "output_type": "stream",
          "name": "stdout",
          "text": [
            "🔵 Epoch 2/5 | Average Loss: 0.6629\n",
            "✅ Validation Accuracy: 0.8138\n",
            "✅ Weighted F1 Score: 0.8158\n",
            "\n",
            "Classification Report:\n",
            "               precision    recall  f1-score   support\n",
            "\n",
            "           0     0.7118    0.8670    0.7818       188\n",
            "           1     0.8538    0.7766    0.8134       188\n",
            "           2     0.9146    0.7979    0.8523       188\n",
            "\n",
            "    accuracy                         0.8138       564\n",
            "   macro avg     0.8267    0.8138    0.8158       564\n",
            "weighted avg     0.8267    0.8138    0.8158       564\n",
            "\n"
          ]
        },
        {
          "output_type": "stream",
          "name": "stderr",
          "text": []
        },
        {
          "output_type": "stream",
          "name": "stdout",
          "text": [
            "🔵 Epoch 3/5 | Average Loss: 0.5835\n",
            "✅ Validation Accuracy: 0.8174\n",
            "✅ Weighted F1 Score: 0.8197\n",
            "\n",
            "Classification Report:\n",
            "               precision    recall  f1-score   support\n",
            "\n",
            "           0     0.7143    0.8777    0.7876       188\n",
            "           1     0.8266    0.7606    0.7922       188\n",
            "           2     0.9563    0.8138    0.8793       188\n",
            "\n",
            "    accuracy                         0.8174       564\n",
            "   macro avg     0.8324    0.8174    0.8197       564\n",
            "weighted avg     0.8324    0.8174    0.8197       564\n",
            "\n"
          ]
        },
        {
          "output_type": "stream",
          "name": "stderr",
          "text": []
        },
        {
          "output_type": "stream",
          "name": "stdout",
          "text": [
            "🔵 Epoch 4/5 | Average Loss: 0.5440\n",
            "✅ Validation Accuracy: 0.8599\n",
            "✅ Weighted F1 Score: 0.8614\n",
            "\n",
            "Classification Report:\n",
            "               precision    recall  f1-score   support\n",
            "\n",
            "           0     0.7458    0.9362    0.8302       188\n",
            "           1     0.9355    0.7713    0.8455       188\n",
            "           2     0.9480    0.8723    0.9086       188\n",
            "\n",
            "    accuracy                         0.8599       564\n",
            "   macro avg     0.8764    0.8599    0.8614       564\n",
            "weighted avg     0.8764    0.8599    0.8614       564\n",
            "\n"
          ]
        },
        {
          "output_type": "stream",
          "name": "stderr",
          "text": []
        },
        {
          "output_type": "stream",
          "name": "stdout",
          "text": [
            "🔵 Epoch 5/5 | Average Loss: 0.5033\n",
            "✅ Validation Accuracy: 0.8688\n",
            "✅ Weighted F1 Score: 0.8697\n",
            "\n",
            "Classification Report:\n",
            "               precision    recall  f1-score   support\n",
            "\n",
            "           0     0.7669    0.9628    0.8538       188\n",
            "           1     0.9012    0.7766    0.8343       188\n",
            "           2     0.9819    0.8670    0.9209       188\n",
            "\n",
            "    accuracy                         0.8688       564\n",
            "   macro avg     0.8834    0.8688    0.8697       564\n",
            "weighted avg     0.8834    0.8688    0.8697       564\n",
            "\n",
            "✅ Training Complete!\n"
          ]
        }
      ]
    },
    {
      "cell_type": "code",
      "source": [
        "import torch\n",
        "\n",
        "def predict_sentiment(model, text, vocab, max_length=50):\n",
        "    \"\"\"\n",
        "    Predict the sentiment of a given text using the trained LSTM model.\n",
        "\n",
        "    Args:\n",
        "        model: Trained LSTM model\n",
        "        text: Input text string\n",
        "        vocab: Vocabulary object for tokenization\n",
        "        max_length: Maximum sequence length for padding\n",
        "\n",
        "    Returns:\n",
        "        Predicted sentiment (0 = Neutral, 1 = Positive, 2 = Negative)\n",
        "    \"\"\"\n",
        "    model.eval()  # Set model to evaluation mode\n",
        "\n",
        "    # Tokenize and convert text to numerical sequence\n",
        "    tokens = text.split()  # Simple whitespace-based tokenization\n",
        "    sequence = [vocab[token] if token in vocab else vocab[\"<UNK>\"] for token in tokens]\n",
        "\n",
        "    # Pad or truncate sequence\n",
        "    if len(sequence) < max_length:\n",
        "        sequence += [vocab[\"<PAD>\"]] * (max_length - len(sequence))  # Pad\n",
        "    else:\n",
        "        sequence = sequence[:max_length]  # Truncate\n",
        "\n",
        "    # Convert to tensor and add batch dimension\n",
        "    input_tensor = torch.tensor(sequence).unsqueeze(0).to(device)  # Shape: (1, max_length)\n",
        "\n",
        "    # Get model prediction\n",
        "    with torch.no_grad():\n",
        "        output = model(input_tensor)\n",
        "        predicted_label = torch.argmax(output, dim=1).item()  # Get predicted class\n",
        "\n",
        "    sentiment_mapping = {0: \"Neutral\", 1: \"Positive\", 2: \"Negative\"}\n",
        "    return sentiment_mapping[predicted_label]\n"
      ],
      "metadata": {
        "id": "xV0ym4OvgfHT"
      },
      "execution_count": null,
      "outputs": []
    },
    {
      "cell_type": "code",
      "source": [
        "from IPython.display import display, HTML\n",
        "import ipywidgets as widgets\n",
        "import torch\n",
        "\n",
        "# Display headings\n",
        "display(HTML(\"<h2 style='color:blue;'>Sentiment Prediction</h2>\"))\n",
        "display(HTML(\"<p style='color:gray;'>Enter a text to predict its <b>Sentiment</b> (Positive, Negative, Neutral).</p>\"))\n",
        "\n",
        "# Text input widget\n",
        "text_input = widgets.Text(\n",
        "    value='',\n",
        "    placeholder='Enter text here...',\n",
        "    description='Input:',\n",
        "    layout=widgets.Layout(width='100%')\n",
        ")\n",
        "\n",
        "# Output widget\n",
        "output = widgets.Output()\n",
        "\n",
        "# Prediction button\n",
        "predict_button = widgets.Button(\n",
        "    description='Predict',\n",
        "    button_style='success',\n",
        "    tooltip='Click to predict',\n",
        "    icon='check'\n",
        ")\n",
        "\n",
        "# Button click function\n",
        "def on_predict_button_clicked(b):\n",
        "    with output:\n",
        "        output.clear_output()\n",
        "        user_input = text_input.value.strip()\n",
        "        if user_input:\n",
        "            model.eval()\n",
        "            tokens = user_input.split()\n",
        "            sequence = [vocab.get(token, vocab[\"<UNK>\"]) for token in tokens]\n",
        "\n",
        "            # Padding\n",
        "            max_length = 50\n",
        "            if len(sequence) < max_length:\n",
        "                sequence += [vocab[\"<PAD>\"]] * (max_length - len(sequence))\n",
        "            else:\n",
        "                sequence = sequence[:max_length]\n",
        "\n",
        "            # Convert to tensor\n",
        "            input_tensor = torch.tensor(sequence).unsqueeze(0).to(device)\n",
        "\n",
        "            with torch.no_grad():\n",
        "                output_logits = model(input_tensor)  # Get raw logits\n",
        "                output_probs = torch.softmax(output_logits, dim=1)  # Apply softmax\n",
        "                predicted_label = torch.argmax(output_probs, dim=1).item()\n",
        "                confidence = output_probs[0, predicted_label].item()\n",
        "\n",
        "            # Sentiment mapping\n",
        "            sentiment_mapping = {0: \"Neutral\", 1: \"Positive\", 2: \"Negative\"}\n",
        "            predicted_sentiment = sentiment_mapping[predicted_label]\n",
        "\n",
        "            # Choose color\n",
        "            color = 'green' if predicted_sentiment.lower() == 'positive' else ('red' if predicted_sentiment.lower() == 'negative' else 'orange')\n",
        "\n",
        "            # Show results\n",
        "            display(HTML(f\"<p style='color:{color};'><b>Predicted Sentiment:</b> {predicted_sentiment}</p>\"))\n",
        "            display(HTML(f\"<p><b>Confidence:</b> {confidence * 100:.2f}%</p>\"))\n",
        "        else:\n",
        "            display(HTML(\"<p style='color:red;'>Please enter some text to predict.</p>\"))\n",
        "\n",
        "# Attach button event\n",
        "predict_button.on_click(on_predict_button_clicked)\n",
        "\n",
        "# Display UI\n",
        "display(text_input)\n",
        "display(predict_button)\n",
        "display(output)\n"
      ],
      "metadata": {
        "colab": {
          "base_uri": "https://localhost:8080/",
          "height": 225,
          "referenced_widgets": [
            "9265d69cf3e6415199d22c3e9e4b54f3",
            "265f824166d843239997465582315372",
            "13d820a372384b0a87499d5ca953103e",
            "3e7e8b7f832a45b8aec23601227bd46a",
            "dd6d4e1dc12c4ab98c186d7d1155b12a",
            "728333e91a0e46bc9fd0ffcffef26a51",
            "12b157d5f2e140edaa66d9a47a32eb13",
            "fa69b3b8a43c48a1837cc1ff53e4fa51"
          ]
        },
        "id": "Li2fIWZsglJg",
        "outputId": "6e586f94-d28b-4cfc-cce7-43ad7d1e4b03"
      },
      "execution_count": null,
      "outputs": [
        {
          "output_type": "display_data",
          "data": {
            "text/plain": [
              "<IPython.core.display.HTML object>"
            ],
            "text/html": [
              "<h2 style='color:blue;'>Sentiment Prediction</h2>"
            ]
          },
          "metadata": {}
        },
        {
          "output_type": "display_data",
          "data": {
            "text/plain": [
              "<IPython.core.display.HTML object>"
            ],
            "text/html": [
              "<p style='color:gray;'>Enter a text to predict its <b>Sentiment</b> (Positive, Negative, Neutral).</p>"
            ]
          },
          "metadata": {}
        },
        {
          "output_type": "display_data",
          "data": {
            "text/plain": [
              "Text(value='', description='Input:', layout=Layout(width='100%'), placeholder='Enter text here...')"
            ],
            "application/vnd.jupyter.widget-view+json": {
              "version_major": 2,
              "version_minor": 0,
              "model_id": "9265d69cf3e6415199d22c3e9e4b54f3"
            }
          },
          "metadata": {}
        },
        {
          "output_type": "display_data",
          "data": {
            "text/plain": [
              "Button(button_style='success', description='Predict', icon='check', style=ButtonStyle(), tooltip='Click to pre…"
            ],
            "application/vnd.jupyter.widget-view+json": {
              "version_major": 2,
              "version_minor": 0,
              "model_id": "3e7e8b7f832a45b8aec23601227bd46a"
            }
          },
          "metadata": {}
        },
        {
          "output_type": "display_data",
          "data": {
            "text/plain": [
              "Output()"
            ],
            "application/vnd.jupyter.widget-view+json": {
              "version_major": 2,
              "version_minor": 0,
              "model_id": "12b157d5f2e140edaa66d9a47a32eb13"
            }
          },
          "metadata": {}
        }
      ]
    },
    {
      "cell_type": "code",
      "source": [
        "import torch\n",
        "\n",
        "# Save the model state dictionary\n",
        "torch.save(model.state_dict(), \"Sentiment_model.pth\")\n",
        "print(\"Model saved successfully!\")"
      ],
      "metadata": {
        "colab": {
          "base_uri": "https://localhost:8080/"
        },
        "id": "OdOBKPyJhPbw",
        "outputId": "6c0c9eb6-19d6-417b-d6c6-09a26872671a"
      },
      "execution_count": null,
      "outputs": [
        {
          "output_type": "stream",
          "name": "stdout",
          "text": [
            "Model saved successfully!\n"
          ]
        }
      ]
    },
    {
      "cell_type": "code",
      "source": [
        "import torch\n",
        "import numpy as np\n",
        "import matplotlib.pyplot as plt\n",
        "import seaborn as sns\n",
        "from sklearn.metrics import confusion_matrix\n",
        "\n",
        "def evaluate_confusion_matrix(model, data_loader, device):\n",
        "    \"\"\"\n",
        "    Evaluates the model on the validation/test set and generates a confusion matrix.\n",
        "\n",
        "    Args:\n",
        "        model: Trained LSTM model\n",
        "        data_loader: DataLoader for validation or test set\n",
        "        device: Torch device (CPU/GPU)\n",
        "\n",
        "    Returns:\n",
        "        Confusion matrix as a NumPy array\n",
        "    \"\"\"\n",
        "    model.eval()  # Set model to evaluation mode\n",
        "    all_preds = []\n",
        "    all_labels = []\n",
        "\n",
        "    with torch.no_grad():\n",
        "        for batch in data_loader:\n",
        "            # Access input_ids and labels correctly from the tuple\n",
        "            input_ids, labels = batch  # Assuming batch returns (input_ids, labels)\n",
        "\n",
        "            input_ids = input_ids.to(device)\n",
        "            labels = labels.to(device)\n",
        "\n",
        "            # Get predictions\n",
        "            outputs = model(input_ids)\n",
        "            preds = torch.argmax(outputs, dim=1)\n",
        "\n",
        "            # Collect predictions and true labels\n",
        "            all_preds.extend(preds.cpu().numpy())\n",
        "            all_labels.extend(labels.cpu().numpy())\n",
        "\n",
        "    # Compute confusion matrix\n",
        "    cm = confusion_matrix(all_labels, all_preds)\n",
        "\n",
        "    return cm\n",
        "\n",
        "# Generate confusion matrix\n",
        "conf_matrix = evaluate_confusion_matrix(model, val_loader, device)\n",
        "\n",
        "# Define class labels\n",
        "class_labels = [\"Positive\", \"Negative\", \"Neutral\"]\n",
        "\n",
        "# Plot the confusion matrix\n",
        "plt.figure(figsize=(6, 5))\n",
        "sns.heatmap(conf_matrix, annot=True, fmt=\"d\", cmap=\"Blues\", xticklabels=class_labels, yticklabels=class_labels)\n",
        "plt.xlabel(\"Predicted\")\n",
        "plt.ylabel(\"Actual\")\n",
        "plt.title(\"Confusion Matrix for validation\")\n",
        "plt.show()"
      ],
      "metadata": {
        "colab": {
          "base_uri": "https://localhost:8080/",
          "height": 487
        },
        "id": "VYOW92AZiEmd",
        "outputId": "3115573c-7d05-4fff-e523-2ee0a98dce37"
      },
      "execution_count": null,
      "outputs": [
        {
          "output_type": "display_data",
          "data": {
            "text/plain": [
              "<Figure size 600x500 with 2 Axes>"
            ],
            "image/png": "[encoded data removed]"
          },
          "metadata": {}
        }
      ]
    },
    {
      "cell_type": "code",
      "source": [
        "import torch\n",
        "import numpy as np\n",
        "import matplotlib.pyplot as plt\n",
        "import seaborn as sns\n",
        "from sklearn.metrics import confusion_matrix\n",
        "\n",
        "def evaluate_confusion_matrix(model, data_loader, device):\n",
        "    \"\"\"\n",
        "    Evaluates the model on the validation/test set and generates a confusion matrix.\n",
        "\n",
        "    Args:\n",
        "        model: Trained LSTM model\n",
        "        data_loader: DataLoader for validation or test set\n",
        "        device: Torch device (CPU/GPU)\n",
        "\n",
        "    Returns:\n",
        "        Confusion matrix as a NumPy array\n",
        "    \"\"\"\n",
        "    model.eval()  # Set model to evaluation mode\n",
        "    all_preds = []\n",
        "    all_labels = []\n",
        "\n",
        "    with torch.no_grad():\n",
        "        for batch in data_loader:\n",
        "            # Access input_ids and labels correctly from the tuple\n",
        "            input_ids, labels = batch  # Assuming batch returns (input_ids, labels)\n",
        "\n",
        "            input_ids = input_ids.to(device)\n",
        "            labels = labels.to(device)\n",
        "\n",
        "            # Get predictions\n",
        "            outputs = model(input_ids)\n",
        "            preds = torch.argmax(outputs, dim=1)\n",
        "\n",
        "            # Collect predictions and true labels\n",
        "            all_preds.extend(preds.cpu().numpy())\n",
        "            all_labels.extend(labels.cpu().numpy())\n",
        "\n",
        "    # Compute confusion matrix\n",
        "    cm = confusion_matrix(all_labels, all_preds)\n",
        "\n",
        "    return cm\n",
        "\n",
        "# Generate confusion matrix\n",
        "conf_matrix = evaluate_confusion_matrix(model, train_loader, device)\n",
        "\n",
        "# Define class labels\n",
        "class_labels = [\"Positive\", \"Negative\", \"Neutral\"]\n",
        "\n",
        "# Plot the confusion matrix\n",
        "plt.figure(figsize=(6, 5))\n",
        "sns.heatmap(conf_matrix, annot=True, fmt=\"d\", cmap=\"Blues\", xticklabels=class_labels, yticklabels=class_labels)\n",
        "plt.xlabel(\"Predicted\")\n",
        "plt.ylabel(\"Actual\")\n",
        "plt.title(\"Confusion Matrix for Training set\")\n",
        "plt.show()"
      ],
      "metadata": {
        "colab": {
          "base_uri": "https://localhost:8080/",
          "height": 487
        },
        "id": "m8TXrhYUi7Ja",
        "outputId": "5507e0bb-fa2b-49df-c173-4516e66ebbcd"
      },
      "execution_count": null,
      "outputs": [
        {
          "output_type": "display_data",
          "data": {
            "text/plain": [
              "<Figure size 600x500 with 2 Axes>"
            ],
            "image/png": "[encoded data removed]"
          },
          "metadata": {}
        }
      ]
    },
    {
      "cell_type": "code",
      "source": [],
      "metadata": {
        "id": "PAKHYFyeyvmH"
      },
      "execution_count": null,
      "outputs": []
    },
    {
      "cell_type": "code",
      "source": [
        "import torch\n",
        "\n",
        "# Save the model state dictionary\n",
        "torch.save(model.state_dict(), \"Sentiment_model.pth\")\n",
        "print(\"Model saved successfully!\")"
      ],
      "metadata": {
        "colab": {
          "base_uri": "https://localhost:8080/"
        },
        "outputId": "a2b6bb37-7821-4974-8e3e-4acd9d850d46",
        "id": "qKl6yqH7ywKT"
      },
      "execution_count": null,
      "outputs": [
        {
          "output_type": "stream",
          "name": "stdout",
          "text": [
            "Model saved successfully!\n"
          ]
        }
      ]
    }
  ]
}